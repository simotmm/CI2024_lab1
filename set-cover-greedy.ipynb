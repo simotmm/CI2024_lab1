{
 "cells": [
  {
   "cell_type": "markdown",
   "metadata": {},
   "source": [
    "Copyright **`(c)`** 2024 Giovanni Squillero `<giovanni.squillero@polito.it>`  \n",
    "[`https://github.com/squillero/computational-intelligence`](https://github.com/squillero/computational-intelligence)  \n",
    "Free for personal or classroom use; see [`LICENSE.md`](https://github.com/squillero/computational-intelligence/blob/master/LICENSE.md) for details.  "
   ]
  },
  {
   "cell_type": "markdown",
   "metadata": {},
   "source": [
    "# Set Cover problem\n",
    "\n",
    "See: https://en.wikipedia.org/wiki/Set_cover_problem"
   ]
  },
  {
   "cell_type": "code",
   "execution_count": 1,
   "metadata": {},
   "outputs": [
    {
     "ename": "ModuleNotFoundError",
     "evalue": "No module named 'numpy'",
     "output_type": "error",
     "traceback": [
      "\u001b[1;31m---------------------------------------------------------------------------\u001b[0m",
      "\u001b[1;31mModuleNotFoundError\u001b[0m                       Traceback (most recent call last)",
      "Cell \u001b[1;32mIn[1], line 3\u001b[0m\n\u001b[0;32m      1\u001b[0m \u001b[38;5;28;01mfrom\u001b[39;00m \u001b[38;5;21;01mrandom\u001b[39;00m \u001b[38;5;28;01mimport\u001b[39;00m random, seed\n\u001b[0;32m      2\u001b[0m \u001b[38;5;28;01mfrom\u001b[39;00m \u001b[38;5;21;01mitertools\u001b[39;00m \u001b[38;5;28;01mimport\u001b[39;00m product\n\u001b[1;32m----> 3\u001b[0m \u001b[38;5;28;01mimport\u001b[39;00m \u001b[38;5;21;01mnumpy\u001b[39;00m \u001b[38;5;28;01mas\u001b[39;00m \u001b[38;5;21;01mnp\u001b[39;00m\n\u001b[0;32m      5\u001b[0m \u001b[38;5;28;01mfrom\u001b[39;00m \u001b[38;5;21;01micecream\u001b[39;00m \u001b[38;5;28;01mimport\u001b[39;00m ic\n",
      "\u001b[1;31mModuleNotFoundError\u001b[0m: No module named 'numpy'"
     ]
    }
   ],
   "source": [
    "from random import random, seed\n",
    "from itertools import product\n",
    "import numpy as np\n",
    "\n",
    "from icecream import ic"
   ]
  },
  {
   "cell_type": "markdown",
   "metadata": {},
   "source": [
    "## Reproducible Initialization\n",
    "\n",
    "If you want to get reproducible results, use `rng` (and restart the kernel); for non-reproducible ones, use `np.random`."
   ]
  },
  {
   "cell_type": "code",
   "execution_count": 34,
   "metadata": {},
   "outputs": [],
   "source": [
    "UNIVERSE_SIZE = 10000\n",
    "NUM_SETS = 1000\n",
    "DENSITY = 0.1\n",
    "\n",
    "rng = np.random.Generator(np.random.PCG64([UNIVERSE_SIZE, NUM_SETS, int(10_000 * DENSITY)]))"
   ]
  },
  {
   "cell_type": "code",
   "execution_count": 35,
   "metadata": {},
   "outputs": [],
   "source": [
    "# DON'T EDIT THESE LINES!\n",
    "\n",
    "SETS = np.random.random((NUM_SETS, UNIVERSE_SIZE)) < DENSITY\n",
    "for s in range(UNIVERSE_SIZE):\n",
    "    if not np.any(SETS[:, s]):\n",
    "        SETS[np.random.randint(NUM_SETS), s] = True\n",
    "COSTS = np.pow(SETS.sum(axis=1), 1.1)"
   ]
  },
  {
   "cell_type": "markdown",
   "metadata": {},
   "source": [
    "## Helper Functions"
   ]
  },
  {
   "cell_type": "code",
   "execution_count": 36,
   "metadata": {},
   "outputs": [],
   "source": [
    "def valid(solution):\n",
    "    \"\"\"Checks wether solution is valid (ie. covers all universe)\"\"\"\n",
    "    return np.all(np.logical_or.reduce(SETS[solution]))\n",
    "\n",
    "\n",
    "def cost(solution):\n",
    "    \"\"\"Returns the cost of a solution (to be minimized)\"\"\"\n",
    "    return COSTS[solution].sum()"
   ]
  },
  {
   "cell_type": "markdown",
   "metadata": {},
   "source": [
    "## Have Fun!"
   ]
  },
  {
   "cell_type": "code",
   "execution_count": 37,
   "metadata": {},
   "outputs": [
    {
     "data": {
      "text/plain": [
       "(np.True_, np.float64(1993549.040679438))"
      ]
     },
     "execution_count": 37,
     "metadata": {},
     "output_type": "execute_result"
    }
   ],
   "source": [
    "# A dumb solution of \"all\" sets\n",
    "solution = np.full(NUM_SETS, True)\n",
    "valid(solution), cost(solution)"
   ]
  },
  {
   "cell_type": "code",
   "execution_count": 38,
   "metadata": {},
   "outputs": [
    {
     "data": {
      "text/plain": [
       "(np.True_, np.float64(1043533.8644309007))"
      ]
     },
     "execution_count": 38,
     "metadata": {},
     "output_type": "execute_result"
    }
   ],
   "source": [
    "# A random solution with random 50% of the sets\n",
    "solution = rng.random(NUM_SETS) < .5\n",
    "valid(solution), cost(solution)"
   ]
  },
  {
   "cell_type": "markdown",
   "metadata": {},
   "source": [
    "# Greedy Algorithm\n",
    "feasible with small numbers \n",
    "(UNIVERSE_SIZE = 10000,\n",
    "NUM_SETS = 1000,\n",
    "DENSITY = 0.1)\n",
    "\n",
    "(source: I used the algorithm from this website https://www.geeksforgeeks.org/greedy-approximate-algorithm-for-set-cover-problem/)"
   ]
  },
  {
   "cell_type": "code",
   "execution_count": 39,
   "metadata": {},
   "outputs": [],
   "source": [
    "def set_cover_greedy(SETS, COSTS):\n",
    "    universe = set(range(SETS.shape[1])) #all elements\n",
    "    covered = set()                      #covered elements\n",
    "    selected = []                        #indexes of selected subsets\n",
    "\n",
    "    while covered!=universe:\n",
    "        best_subset = None\n",
    "        best_ratio = float(\"inf\")\n",
    "\n",
    "        for i in range(len(SETS)):\n",
    "            subset = SETS[i]                            \n",
    "            subset_elements = set(np.where(subset)[0]) #for each subset\n",
    "            new_elements = subset_elements - covered   #I take the uncovered elements\n",
    "\n",
    "            if new_elements:                  #if there are uncovered elements  \n",
    "                current_cost = COSTS[i]       #I compute the ration cost/coverage\n",
    "                coverage = len(new_elements)\n",
    "                ratio = current_cost/coverage\n",
    "\n",
    "                if ratio < best_ratio:        #if the ratio is the best to this moment\n",
    "                    best_ratio = ratio        #I choose the current as best subset\n",
    "                    best_subset = i\n",
    "\n",
    "        if best_subset is not None:\n",
    "            selected.append(best_subset)\n",
    "            covered.update(set(np.where(SETS[best_subset])[0]))\n",
    "        else:\n",
    "            raise RuntimeError(\"No valid subset found. The problem may not be solvable with these sets and costs.\")\n",
    "        \n",
    "        ic(valid(selected), cost(selected))\n",
    "    \n",
    "    return selected"
   ]
  },
  {
   "cell_type": "code",
   "execution_count": 40,
   "metadata": {},
   "outputs": [
    {
     "name": "stderr",
     "output_type": "stream",
     "text": [
      "ic| valid(selected): np.False_\n",
      "    cost(selected): np.float64(1802.9941688882707)\n",
      "ic| valid(selected): np.False_\n",
      "    cost(selected): np.float64(3690.979295461242)\n",
      "ic| valid(selected): np.False_\n",
      "    cost(selected): np.float64(5706.003572343983)\n",
      "ic| valid(selected): np.False_\n",
      "    cost(selected): np.float64(7653.0340074357555)\n",
      "ic| valid(selected): np.False_\n",
      "    cost(selected): np.float64(9567.241077003131)\n",
      "ic| valid(selected): np.False_\n",
      "    cost(selected): np.float64(11617.44118439355)\n",
      "ic| valid(selected): np.False_\n",
      "    cost(selected): np.float64(13643.45195819912)\n",
      "ic| valid(selected): np.False_\n",
      "    cost(selected): np.float64(15656.279588070858)\n",
      "ic| valid(selected): np.False_\n",
      "    cost(selected): np.float64(17559.55685342938)\n",
      "ic| valid(selected): np.False_\n",
      "    cost(selected): np.float64(19576.7779950393)\n",
      "ic| valid(selected): np.False_\n",
      "    cost(selected): np.float64(21517.239704090764)\n",
      "ic| valid(selected): np.False_\n",
      "    cost(selected): np.float64(23466.46016263919)\n",
      "ic| valid(selected): np.False_\n",
      "    cost(selected): np.float64(25485.87838649845)\n",
      "ic| valid(selected): np.False_\n",
      "    cost(selected): np.float64(27580.12547089586)\n",
      "ic| valid(selected): np.False_\n",
      "    cost(selected): np.float64(29612.730745397566)\n",
      "ic| valid(selected): np.False_\n",
      "    cost(selected): np.float64(31553.19245444902)\n",
      "ic| valid(selected): np.False_\n",
      "    cost(selected): np.float64(33594.593422096805)\n",
      "ic| valid(selected): np.False_\n",
      "    cost(selected): np.float64(35680.02431360808)\n",
      "ic| valid(selected): np.False_\n",
      "    cost(selected): np.float64(37668.70325148257)\n",
      "ic| valid(selected): np.False_\n",
      "    cost(selected): np.float64(39690.31877491968)\n",
      "ic| valid(selected): np.False_\n",
      "    cost(selected): np.float64(41687.77598814155)\n",
      "ic| valid(selected): np.False_\n",
      "    cost(selected): np.float64(43689.62365551705)\n",
      "ic| valid(selected): np.False_\n",
      "    cost(selected): np.float64(45610.391333962485)\n",
      "ic| valid(selected): np.False_\n",
      "    cost(selected): np.float64(47520.22579919504)\n",
      "ic| valid(selected): np.False_\n",
      "    cost(selected): np.float64(49484.78267438432)\n",
      "ic| valid(selected): np.False_\n",
      "    cost(selected): np.float64(51614.3281676175)\n",
      "ic| valid(selected): np.False_\n",
      "    cost(selected): np.float64(53576.693457670335)\n",
      "ic| valid(selected): np.False_\n",
      "    cost(selected): np.float64(55576.34578842673)\n",
      "ic| valid(selected): np.False_\n",
      "    cost(selected): np.float64(57562.830707151596)\n",
      "ic| valid(selected): np.False_\n",
      "    cost(selected): np.float64(59551.50964502608)\n",
      "ic| valid(selected): np.False_\n",
      "    cost(selected): np.float64(61384.97237144899)\n",
      "ic| valid(selected): np.False_\n",
      "    cost(selected): np.float64(63294.80683668154)\n",
      "ic| valid(selected): np.False_\n",
      "    cost(selected): np.float64(65287.87447287632)\n",
      "ic| valid(selected): np.False_\n",
      "    cost(selected): np.float64(67333.67458032968)\n",
      "ic| valid(selected): np.False_\n",
      "    cost(selected): np.float64(69357.48762047986)\n",
      "ic| valid(selected): np.False_\n",
      "    cost(selected): np.float64(71241.10562797317)\n",
      "ic| valid(selected): np.False_\n",
      "    cost(selected): np.float64(73205.66250316246)\n",
      "ic| valid(selected): np.False_\n",
      "    cost(selected): np.float64(75225.08072702172)\n",
      "ic| valid(selected): np.False_\n",
      "    cost(selected): np.float64(77235.711927793)\n",
      "ic| valid(selected): np.False_\n",
      "    cost(selected): np.float64(79147.73258155977)\n",
      "ic| valid(selected): np.False_\n",
      "    cost(selected): np.float64(81070.6875827514)\n",
      "ic| valid(selected): np.False_\n",
      "    cost(selected): np.float64(82971.77957077371)\n",
      "ic| valid(selected): np.False_\n",
      "    cost(selected): np.float64(84923.19027649029)\n",
      "ic| valid(selected): np.False_\n",
      "    cost(selected): np.float64(86898.70840753775)\n",
      "ic| valid(selected): np.False_\n",
      "    cost(selected): np.float64(88749.60247687322)\n",
      "ic| valid(selected): np.True_\n",
      "    cost(selected): np.float64(90593.95803598608)\n",
      "ic| valid(solution): np.True_\n",
      "    cost(solution): np.float64(90593.95803598608)\n"
     ]
    },
    {
     "data": {
      "text/plain": [
       "(np.True_, np.float64(90593.95803598608))"
      ]
     },
     "execution_count": 40,
     "metadata": {},
     "output_type": "execute_result"
    }
   ],
   "source": [
    "solution = set_cover_greedy(SETS=SETS, COSTS=COSTS)\n",
    "ic(valid(solution), cost(solution))"
   ]
  }
 ],
 "metadata": {
  "kernelspec": {
   "display_name": "Python 3",
   "language": "python",
   "name": "python3"
  },
  "language_info": {
   "codemirror_mode": {
    "name": "ipython",
    "version": 3
   },
   "file_extension": ".py",
   "mimetype": "text/x-python",
   "name": "python",
   "nbconvert_exporter": "python",
   "pygments_lexer": "ipython3",
   "version": "3.12.4"
  }
 },
 "nbformat": 4,
 "nbformat_minor": 4
}
