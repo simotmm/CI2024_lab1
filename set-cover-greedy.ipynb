{
 "cells": [
  {
   "cell_type": "markdown",
   "metadata": {},
   "source": [
    "Copyright **`(c)`** 2024 Giovanni Squillero `<giovanni.squillero@polito.it>`  \n",
    "[`https://github.com/squillero/computational-intelligence`](https://github.com/squillero/computational-intelligence)  \n",
    "Free for personal or classroom use; see [`LICENSE.md`](https://github.com/squillero/computational-intelligence/blob/master/LICENSE.md) for details.  "
   ]
  },
  {
   "cell_type": "markdown",
   "metadata": {},
   "source": [
    "# Set Cover problem\n",
    "\n",
    "See: https://en.wikipedia.org/wiki/Set_cover_problem"
   ]
  },
  {
   "cell_type": "code",
   "execution_count": 33,
   "metadata": {},
   "outputs": [],
   "source": [
    "from random import random, seed\n",
    "from itertools import product\n",
    "import numpy as np\n",
    "\n",
    "from icecream import ic"
   ]
  },
  {
   "cell_type": "markdown",
   "metadata": {},
   "source": [
    "## Reproducible Initialization\n",
    "\n",
    "If you want to get reproducible results, use `rng` (and restart the kernel); for non-reproducible ones, use `np.random`."
   ]
  },
  {
   "cell_type": "code",
   "execution_count": 34,
   "metadata": {},
   "outputs": [],
   "source": [
    "UNIVERSE_SIZE = 10000\n",
    "NUM_SETS = 1000\n",
    "DENSITY = 0.1\n",
    "\n",
    "rng = np.random.Generator(np.random.PCG64([UNIVERSE_SIZE, NUM_SETS, int(10_000 * DENSITY)]))"
   ]
  },
  {
   "cell_type": "code",
   "execution_count": 35,
   "metadata": {},
   "outputs": [],
   "source": [
    "# DON'T EDIT THESE LINES!\n",
    "\n",
    "SETS = np.random.random((NUM_SETS, UNIVERSE_SIZE)) < DENSITY\n",
    "for s in range(UNIVERSE_SIZE):\n",
    "    if not np.any(SETS[:, s]):\n",
    "        SETS[np.random.randint(NUM_SETS), s] = True\n",
    "COSTS = np.pow(SETS.sum(axis=1), 1.1)"
   ]
  },
  {
   "cell_type": "markdown",
   "metadata": {},
   "source": [
    "## Helper Functions"
   ]
  },
  {
   "cell_type": "code",
   "execution_count": 36,
   "metadata": {},
   "outputs": [],
   "source": [
    "def valid(solution):\n",
    "    \"\"\"Checks wether solution is valid (ie. covers all universe)\"\"\"\n",
    "    return np.all(np.logical_or.reduce(SETS[solution]))\n",
    "\n",
    "\n",
    "def cost(solution):\n",
    "    \"\"\"Returns the cost of a solution (to be minimized)\"\"\"\n",
    "    return COSTS[solution].sum()"
   ]
  },
  {
   "cell_type": "markdown",
   "metadata": {},
   "source": [
    "## Have Fun!"
   ]
  },
  {
   "cell_type": "code",
   "execution_count": 37,
   "metadata": {},
   "outputs": [
    {
     "data": {
      "text/plain": [
       "(np.True_, np.float64(1995860.2608245336))"
      ]
     },
     "execution_count": 37,
     "metadata": {},
     "output_type": "execute_result"
    }
   ],
   "source": [
    "# A dumb solution of \"all\" sets\n",
    "solution = np.full(NUM_SETS, True)\n",
    "valid(solution), cost(solution)"
   ]
  },
  {
   "cell_type": "code",
   "execution_count": 38,
   "metadata": {},
   "outputs": [
    {
     "data": {
      "text/plain": [
       "(np.True_, np.float64(1047404.859237449))"
      ]
     },
     "execution_count": 38,
     "metadata": {},
     "output_type": "execute_result"
    }
   ],
   "source": [
    "# A random solution with random 50% of the sets\n",
    "solution = rng.random(NUM_SETS) < .5\n",
    "valid(solution), cost(solution)"
   ]
  },
  {
   "cell_type": "markdown",
   "metadata": {},
   "source": [
    "# Greedy Algorithm\n",
    "feasible with small numbers \n",
    "(UNIVERSE_SIZE = 10000,\n",
    "NUM_SETS = 1000,\n",
    "DENSITY = 0.1)\n",
    "\n",
    "(source: I used the algorithm from this website https://www.geeksforgeeks.org/greedy-approximate-algorithm-for-set-cover-problem/)"
   ]
  },
  {
   "cell_type": "code",
   "execution_count": 39,
   "metadata": {},
   "outputs": [],
   "source": [
    "def set_cover_greedy(SETS, COSTS):\n",
    "    universe = set(range(SETS.shape[1])) #all elements\n",
    "    covered = set()                      #covered elements\n",
    "    selected = []                        #indexes of selected subsets\n",
    "\n",
    "    while covered!=universe:\n",
    "        best_subset = None\n",
    "        best_ratio = float(\"inf\")\n",
    "\n",
    "        for i in range(len(SETS)):\n",
    "            subset = SETS[i]                            \n",
    "            subset_elements = set(np.where(subset)[0]) #for each subset\n",
    "            new_elements = subset_elements - covered   #I take the uncovered elements\n",
    "\n",
    "            if new_elements:                  #if there are uncovered elements  \n",
    "                current_cost = COSTS[i]       #I compute the ration cost/coverage\n",
    "                coverage = len(new_elements)\n",
    "                ratio = current_cost/coverage\n",
    "\n",
    "                if ratio < best_ratio:        #if the ratio is the best to this moment\n",
    "                    best_ratio = ratio        #I choose the current as best subset\n",
    "                    best_subset = i\n",
    "\n",
    "        if best_subset is not None:\n",
    "            selected.append(best_subset)\n",
    "            covered.update(set(np.where(SETS[best_subset])[0]))\n",
    "        else:\n",
    "            raise RuntimeError(\"No valid subset found. The problem may not be solvable with these sets and costs.\")\n",
    "        \n",
    "        ic(valid(selected), cost(selected))\n",
    "    \n",
    "    return selected"
   ]
  },
  {
   "cell_type": "code",
   "execution_count": 40,
   "metadata": {},
   "outputs": [
    {
     "name": "stderr",
     "output_type": "stream",
     "text": [
      "ic| valid(selected): np.False_\n",
      "    cost(selected): np.float64(1802.9941688882707)\n",
      "ic| valid(selected): np.False_\n",
      "    cost(selected): np.float64(3756.5953452790673)\n",
      "ic| valid(selected): np.False_\n",
      "    cost(selected): np.float64(5721.152220468346)\n",
      "ic| valid(selected): np.False_\n",
      "    cost(selected): np.float64(7644.107221659979)\n",
      "ic| valid(selected): np.False_\n",
      "    cost(selected): np.float64(9718.522636328327)\n",
      "ic| valid(selected): np.False_\n",
      "    cost(selected): np.float64(11650.229188488529)\n",
      "ic| valid(selected): np.False_\n",
      "    cost(selected): np.float64(13658.66417826467)\n",
      "ic| valid(selected): np.False_\n",
      "    cost(selected): np.float64(15667.099168040811)\n",
      "ic| valid(selected): np.False_\n",
      "    cost(selected): np.float64(17662.361483009692)\n",
      "ic| valid(selected): np.False_\n",
      "    cost(selected): np.float64(19769.83918174949)\n",
      "ic| valid(selected): np.False_\n",
      "    cost(selected): np.float64(21771.686849124988)\n",
      "ic| valid(selected): np.False_\n",
      "    cost(selected): np.float64(23729.669636562503)\n",
      "ic| valid(selected): np.False_\n",
      "    cost(selected): np.float64(25650.43731500794)\n",
      "ic| valid(selected): np.False_\n",
      "    cost(selected): np.float64(27628.148361848773)\n",
      "ic| valid(selected): np.False_\n",
      "    cost(selected): np.float64(29702.563776517123)\n",
      "ic| valid(selected): np.False_\n",
      "    cost(selected): np.float64(31658.355646883116)\n",
      "ic| valid(selected): np.False_\n",
      "    cost(selected): np.float64(33671.183276754855)\n",
      "ic| valid(selected): np.False_\n",
      "    cost(selected): np.float64(35478.52725026869)\n",
      "ic| valid(selected): np.False_\n",
      "    cost(selected): np.float64(37408.04557610902)\n",
      "ic| valid(selected): np.False_\n",
      "    cost(selected): np.float64(39317.88004134157)\n",
      "ic| valid(selected): np.False_\n",
      "    cost(selected): np.float64(41229.900695108336)\n",
      "ic| valid(selected): np.False_\n",
      "    cost(selected): np.float64(43269.102415876245)\n",
      "ic| valid(selected): np.False_\n",
      "    cost(selected): np.float64(45336.91109420087)\n",
      "ic| valid(selected): np.False_\n",
      "    cost(selected): np.float64(47411.32650886921)\n",
      "ic| valid(selected): np.False_\n",
      "    cost(selected): np.float64(49362.7372145858)\n",
      "ic| valid(selected): np.False_\n",
      "    cost(selected): np.float64(51325.102504638635)\n",
      "ic| valid(selected): np.False_\n",
      "    cost(selected): np.float64(53357.70777914034)\n",
      "ic| valid(selected): np.False_\n",
      "    cost(selected): np.float64(55451.95486353775)\n",
      "ic| valid(selected): np.False_\n",
      "    cost(selected): np.float64(57506.55582948608)\n",
      "ic| valid(selected): np.False_\n",
      "    cost(selected): np.float64(59436.07415532641)\n",
      "ic| valid(selected): np.False_\n",
      "    cost(selected): np.float64(61361.21670547274)\n",
      "ic| valid(selected): np.False_\n",
      "    cost(selected): np.float64(63385.029745622924)\n",
      "ic| valid(selected): np.False_\n",
      "    cost(selected): np.float64(65268.64775311622)\n",
      "ic| valid(selected): np.False_\n",
      "    cost(selected): np.float64(67185.04146553818)\n",
      "ic| valid(selected): np.False_\n",
      "    cost(selected): np.float64(69094.87593077072)\n",
      "ic| valid(selected): np.False_\n",
      "    cost(selected): np.float64(71022.20625586993)\n",
      "ic| valid(selected): np.False_\n",
      "    cost(selected): np.float64(73176.05035085126)\n",
      "ic| valid(selected): np.False_\n",
      "    cost(selected): np.float64(75228.45078028722)\n",
      "ic| valid(selected): np.False_\n",
      "    cost(selected): np.float64(77151.40578147885)\n",
      "ic| valid(selected): np.False_\n",
      "    cost(selected): np.float64(79115.96265666813)\n",
      "ic| valid(selected): np.False_\n",
      "    cost(selected): np.float64(81201.3935481794)\n",
      "ic| valid(selected): np.False_\n",
      "    cost(selected): np.float64(83201.0458789358)\n",
      "ic| valid(selected): np.False_\n",
      "    cost(selected): np.float64(85222.6614023729)\n",
      "ic| valid(selected): np.True_\n",
      "    cost(selected): np.float64(87154.36795453311)\n",
      "ic| valid(solution): np.True_\n",
      "    cost(solution): np.float64(87154.36795453311)\n"
     ]
    },
    {
     "data": {
      "text/plain": [
       "(np.True_, np.float64(87154.36795453311))"
      ]
     },
     "execution_count": 40,
     "metadata": {},
     "output_type": "execute_result"
    }
   ],
   "source": [
    "solution = set_cover_greedy(SETS=SETS, COSTS=COSTS)\n",
    "ic(valid(solution), cost(solution))"
   ]
  }
 ],
 "metadata": {
  "kernelspec": {
   "display_name": "venv",
   "language": "python",
   "name": "python3"
  },
  "language_info": {
   "codemirror_mode": {
    "name": "ipython",
    "version": 3
   },
   "file_extension": ".py",
   "mimetype": "text/x-python",
   "name": "python",
   "nbconvert_exporter": "python",
   "pygments_lexer": "ipython3",
   "version": "3.12.4"
  }
 },
 "nbformat": 4,
 "nbformat_minor": 4
}
