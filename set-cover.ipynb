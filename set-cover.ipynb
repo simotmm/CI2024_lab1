{
 "cells": [
  {
   "cell_type": "markdown",
   "metadata": {},
   "source": [
    "Template file from [https://github.com/squillero/computational-intelligence/blob/master/2024-25/set-cover.ipynb](https://github.com/squillero/computational-intelligence/blob/master/2024-25/set-cover.ipynb) "
   ]
  },
  {
   "cell_type": "markdown",
   "metadata": {},
   "source": [
    "# Set Cover problem\n",
    "\n",
    "See: https://en.wikipedia.org/wiki/Set_cover_problem"
   ]
  },
  {
   "cell_type": "code",
   "execution_count": 583,
   "metadata": {},
   "outputs": [],
   "source": [
    "from random import random, seed\n",
    "import numpy as np\n",
    "\n",
    "from icecream import ic"
   ]
  },
  {
   "cell_type": "markdown",
   "metadata": {},
   "source": [
    "## Reproducible Initialization\n",
    "\n",
    "If you want to get reproducible results, use `rng` (and restart the kernel); for non-reproducible ones, use `np.random`."
   ]
  },
  {
   "cell_type": "code",
   "execution_count": 584,
   "metadata": {},
   "outputs": [],
   "source": [
    "UNIVERSE_SIZE = 100_000\n",
    "NUM_SETS = 10_000\n",
    "DENSITY = 0.1\n",
    "\n",
    "rng = np.random.Generator(np.random.PCG64([UNIVERSE_SIZE, NUM_SETS, int(10_000 * DENSITY)]))"
   ]
  },
  {
   "cell_type": "code",
   "execution_count": 585,
   "metadata": {},
   "outputs": [],
   "source": [
    "# DON'T EDIT THESE LINES!\n",
    "\n",
    "SETS = np.random.random((NUM_SETS, UNIVERSE_SIZE)) < DENSITY\n",
    "for s in range(UNIVERSE_SIZE):\n",
    "    if not np.any(SETS[:, s]):\n",
    "        SETS[np.random.randint(NUM_SETS), s] = True\n",
    "COSTS = np.pow(SETS.sum(axis=1), 1.1)"
   ]
  },
  {
   "cell_type": "markdown",
   "metadata": {},
   "source": [
    "## Helper Functions"
   ]
  },
  {
   "cell_type": "code",
   "execution_count": 586,
   "metadata": {},
   "outputs": [],
   "source": [
    "def valid(solution):\n",
    "    \"\"\"Checks wether solution is valid (ie. covers all universe)\"\"\"\n",
    "    return np.all(np.logical_or.reduce(SETS[solution]))\n",
    "\n",
    "\n",
    "def cost(solution):\n",
    "    \"\"\"Returns the cost of a solution (to be minimized)\"\"\"\n",
    "    return COSTS[solution].sum()"
   ]
  },
  {
   "cell_type": "markdown",
   "metadata": {},
   "source": [
    "## Have Fun!"
   ]
  },
  {
   "cell_type": "code",
   "execution_count": 587,
   "metadata": {},
   "outputs": [
    {
     "name": "stderr",
     "output_type": "stream",
     "text": [
      "ic| valid(solution): np.True_\n",
      "    cost(solution): np.float64(251231098.4310939)\n"
     ]
    },
    {
     "data": {
      "text/plain": [
       "(np.True_, np.float64(251231098.4310939))"
      ]
     },
     "execution_count": 587,
     "metadata": {},
     "output_type": "execute_result"
    }
   ],
   "source": [
    "# A dumb solution of \"all\" sets\n",
    "solution = np.full(NUM_SETS, True)\n",
    "ic(valid(solution), cost(solution))"
   ]
  },
  {
   "cell_type": "code",
   "execution_count": 588,
   "metadata": {},
   "outputs": [
    {
     "name": "stderr",
     "output_type": "stream",
     "text": [
      "ic| valid(solution): np.True_\n",
      "    cost(solution): np.float64(124550027.00982144)\n"
     ]
    },
    {
     "data": {
      "text/plain": [
       "(np.True_, np.float64(124550027.00982144))"
      ]
     },
     "execution_count": 588,
     "metadata": {},
     "output_type": "execute_result"
    }
   ],
   "source": [
    "# A random solution with random 50% of the sets\n",
    "solution = rng.random(NUM_SETS) < .5\n",
    "ic(valid(solution), cost(solution))"
   ]
  },
  {
   "cell_type": "markdown",
   "metadata": {},
   "source": [
    "# Simple RHMC (Random Mutation Hill Climber)\n",
    "source: lesson held on 03/10/2024"
   ]
  },
  {
   "cell_type": "code",
   "execution_count": 589,
   "metadata": {},
   "outputs": [],
   "source": [
    "def single_mutation(solution):    #tweak - single mutation:\n",
    "    new_sol = solution.copy()     #change a single value in a random position\n",
    "    i = rng.integers(0, NUM_SETS) \n",
    "    new_sol[i] = not new_sol[i]  \n",
    "    new_sol\n",
    "    return new_sol"
   ]
  },
  {
   "cell_type": "code",
   "execution_count": 590,
   "metadata": {},
   "outputs": [],
   "source": [
    "def multiple_mutation(solution):              #tweak - multiple mutation: \n",
    "    mask = rng.random(NUM_SETS) < .01         #create a boolean mask with 1% probability to be 'true'\n",
    "    new_sol = np.logical_xor(solution, mask)  #xor: change the 'false' values to 'true' where the mask is 'true'\n",
    "    return new_sol"
   ]
  },
  {
   "cell_type": "code",
   "execution_count": 591,
   "metadata": {},
   "outputs": [],
   "source": [
    "def fitness(solution): #fitness function: tuple (lexicographic ordering)\n",
    "    return (valid(solution), -cost(solution)) "
   ]
  },
  {
   "cell_type": "code",
   "execution_count": 592,
   "metadata": {},
   "outputs": [
    {
     "name": "stderr",
     "output_type": "stream",
     "text": [
      "ic| first_solution_fitness: (np.False_, np.float64(-350507.9663751508))\n",
      "ic| solution_fitness: (np.True_, np.float64(-3319341.505363075))\n"
     ]
    },
    {
     "data": {
      "text/plain": [
       "(np.True_, np.float64(-3319341.505363075))"
      ]
     },
     "execution_count": 592,
     "metadata": {},
     "output_type": "execute_result"
    }
   ],
   "source": [
    "solution = rng.random(NUM_SETS) < 0.001      #random starting solution with low probability to have 'true' to start from an invalid solution\n",
    "solution_fitness = fitness(solution)\n",
    "first_solution_fitness = solution_fitness\n",
    "ic(first_solution_fitness)\n",
    "tweak = multiple_mutation                   #I choss the multiple mutation to tweak the solution\n",
    "\n",
    "for steps in range(10_000):                      \n",
    "    new_solution = tweak(solution)               #tweak the current solution\n",
    "    new_solution_fitness = fitness(new_solution) #evaluate the new solution fitness\n",
    "    if new_solution_fitness > solution_fitness:  #if the fitness of the new solution is better than the current one\n",
    "        solution = new_solution                  #the current solution and its fitness are updated\n",
    "        solution_fitness = fitness(solution)\n",
    "\n",
    "ic(solution_fitness)"
   ]
  },
  {
   "cell_type": "markdown",
   "metadata": {},
   "source": [
    "## Results\n",
    "| Instance | Universe Size | Num Sets | Density | Probability (*) | First Fitness                              | Final Fitness                             | Execution Time |\n",
    "| -------- | ------------- | -------- | ---     | --------------- | ------------------------------------------ | ----------------------------------------- | -------------- | \n",
    "| 1        | 100           | 10       | 0.2     | 0.895           | np.True_, np.float64(-276.28183998918325)  | np.True_, np.float64(-276.28183998918325) | 0.001s         |\n",
    "| 2        | 1_000         | 100      | 0.2     | 0.3             | np.False_, np.float64(-10353.644030654768) | np.True_, np.float64(-6583.373093326254)  | 0.1s           |\n",
    "| 3        | 10_000        | 1_000    | 0.2     | 0.05            | np.False_, np.float64(-162079.19857870534) | np.True_, np.float64(-204360.41401215774) | 0.3s           |\n",
    "| 4        | 100_000       | 10_000   | 0.1     | 0.001           | np.False_, np.float64(-350507.9663751508)  | np.True_, np.float64(-3319341.505363075)  | 1m 29.7s       |\n",
    "| 5        | 100_000       | 10_000   | 0.2     | 0.001           | np.False_, np.float64(-431447.2950779936)  | np.True_, np.float64(-4793621.294248858)  | 1m 14.0s       |\n",
    "| 6        | 100_000       | 10_000   | 0.3     | 0.003           | np.False_, np.float64(-2695762.1963715665) | np.True_, np.float64(-11519921.684396852) | 1m 31.4s       |\n",
    "\n",
    "( (*): \" solution = rng.random(NUM_SETS) < 'Probability' \", it is set as low enough to start from an invalid solution)"
   ]
  },
  {
   "cell_type": "markdown",
   "metadata": {},
   "source": [
    "# Greedy Algorithm\n",
    "source: I used the algorithm from this website https://www.geeksforgeeks.org/greedy-approximate-algorithm-for-set-cover-problem/"
   ]
  },
  {
   "cell_type": "code",
   "execution_count": 593,
   "metadata": {},
   "outputs": [],
   "source": [
    "def set_cover_greedy(SETS, COSTS):\n",
    "    universe = set(range(SETS.shape[1])) #all elements\n",
    "    covered = set()                      #covered elements\n",
    "    selected = []                        #indexes of selected subsets, we start from an empty solution\n",
    "\n",
    "    while covered!=universe:\n",
    "        best_subset = None\n",
    "        best_ratio = float(\"inf\")\n",
    "\n",
    "        for i in range(len(SETS)):\n",
    "            subset = SETS[i]                            \n",
    "            subset_elements = set(np.where(subset)[0]) #for each subset\n",
    "            new_elements = subset_elements - covered   #I take the uncovered elements\n",
    "\n",
    "            if new_elements:                  #if there are uncovered elements  \n",
    "                current_cost = COSTS[i]       #I compute the ration cost/coverage\n",
    "                coverage = len(new_elements)\n",
    "                ratio = current_cost/coverage\n",
    "\n",
    "                if ratio < best_ratio:        #if the ratio is the best to this moment\n",
    "                    best_ratio = ratio        #I choose the current as best subset\n",
    "                    best_subset = i\n",
    "\n",
    "        if best_subset is not None:\n",
    "            selected.append(best_subset)\n",
    "            covered.update(set(np.where(SETS[best_subset])[0]))\n",
    "        else:\n",
    "            raise RuntimeError(\"No valid subset found. The problem may not be solvable with these sets and costs.\")\n",
    "\n",
    "    return selected"
   ]
  },
  {
   "cell_type": "code",
   "execution_count": 594,
   "metadata": {},
   "outputs": [],
   "source": [
    "#solution = set_cover_greedy(SETS=SETS, COSTS=COSTS)\n",
    "#ic(fitness(solution))"
   ]
  }
 ],
 "metadata": {
  "kernelspec": {
   "display_name": "venv",
   "language": "python",
   "name": "python3"
  },
  "language_info": {
   "codemirror_mode": {
    "name": "ipython",
    "version": 3
   },
   "file_extension": ".py",
   "mimetype": "text/x-python",
   "name": "python",
   "nbconvert_exporter": "python",
   "pygments_lexer": "ipython3",
   "version": "3.12.4"
  }
 },
 "nbformat": 4,
 "nbformat_minor": 4
}
