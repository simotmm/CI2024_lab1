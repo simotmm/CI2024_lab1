{
 "cells": [
  {
   "cell_type": "markdown",
   "metadata": {},
   "source": [
    "Template file from [https://github.com/squillero/computational-intelligence/blob/master/2024-25/set-cover.ipynb](https://github.com/squillero/computational-intelligence/blob/master/2024-25/set-cover.ipynb) "
   ]
  },
  {
   "cell_type": "markdown",
   "metadata": {},
   "source": [
    "# Set Cover problem\n",
    "\n",
    "See: https://en.wikipedia.org/wiki/Set_cover_problem"
   ]
  },
  {
   "cell_type": "code",
   "execution_count": 1,
   "metadata": {},
   "outputs": [],
   "source": [
    "from random import random, seed\n",
    "import numpy as np\n",
    "\n",
    "from icecream import ic"
   ]
  },
  {
   "cell_type": "markdown",
   "metadata": {},
   "source": [
    "## Reproducible Initialization\n",
    "\n",
    "If you want to get reproducible results, use `rng` (and restart the kernel); for non-reproducible ones, use `np.random`."
   ]
  },
  {
   "cell_type": "code",
   "execution_count": 2,
   "metadata": {},
   "outputs": [],
   "source": [
    "UNIVERSE_SIZE = 100_000\n",
    "NUM_SETS = 10_000\n",
    "DENSITY = 0.1\n",
    "\n",
    "rng = np.random.Generator(np.random.PCG64([UNIVERSE_SIZE, NUM_SETS, int(10_000 * DENSITY)]))"
   ]
  },
  {
   "cell_type": "code",
   "execution_count": 3,
   "metadata": {},
   "outputs": [],
   "source": [
    "# DON'T EDIT THESE LINES!\n",
    "\n",
    "SETS = np.random.random((NUM_SETS, UNIVERSE_SIZE)) < DENSITY\n",
    "for s in range(UNIVERSE_SIZE):\n",
    "    if not np.any(SETS[:, s]):\n",
    "        SETS[np.random.randint(NUM_SETS), s] = True\n",
    "COSTS = np.pow(SETS.sum(axis=1), 1.1)"
   ]
  },
  {
   "cell_type": "markdown",
   "metadata": {},
   "source": [
    "## Helper Functions"
   ]
  },
  {
   "cell_type": "code",
   "execution_count": 4,
   "metadata": {},
   "outputs": [],
   "source": [
    "def valid(solution):\n",
    "    \"\"\"Checks wether solution is valid (ie. covers all universe)\"\"\"\n",
    "    return np.all(np.logical_or.reduce(SETS[solution]))\n",
    "\n",
    "\n",
    "def cost(solution):\n",
    "    \"\"\"Returns the cost of a solution (to be minimized)\"\"\"\n",
    "    return COSTS[solution].sum()"
   ]
  },
  {
   "cell_type": "markdown",
   "metadata": {},
   "source": [
    "## Have Fun!"
   ]
  },
  {
   "cell_type": "code",
   "execution_count": 5,
   "metadata": {},
   "outputs": [
    {
     "name": "stderr",
     "output_type": "stream",
     "text": [
      "ic| valid(solution): np.True_\n",
      "    cost(solution): np.float64(251163170.0166925)\n"
     ]
    },
    {
     "data": {
      "text/plain": [
       "(np.True_, np.float64(251163170.0166925))"
      ]
     },
     "execution_count": 5,
     "metadata": {},
     "output_type": "execute_result"
    }
   ],
   "source": [
    "# A dumb solution of \"all\" sets\n",
    "solution = np.full(NUM_SETS, True)\n",
    "ic(valid(solution), cost(solution))"
   ]
  },
  {
   "cell_type": "code",
   "execution_count": 6,
   "metadata": {},
   "outputs": [
    {
     "name": "stderr",
     "output_type": "stream",
     "text": [
      "ic| valid(solution): np.True_\n",
      "    cost(solution): np.float64(124515264.92240825)\n"
     ]
    },
    {
     "data": {
      "text/plain": [
       "(np.True_, np.float64(124515264.92240825))"
      ]
     },
     "execution_count": 6,
     "metadata": {},
     "output_type": "execute_result"
    }
   ],
   "source": [
    "# A random solution with random 50% of the sets\n",
    "solution = rng.random(NUM_SETS) < .5\n",
    "ic(valid(solution), cost(solution))"
   ]
  },
  {
   "cell_type": "markdown",
   "metadata": {},
   "source": [
    "# Simple RHMC (Random Mutation Hill Climber)\n",
    "source: lesson held on 03/10/2024"
   ]
  },
  {
   "cell_type": "code",
   "execution_count": 7,
   "metadata": {},
   "outputs": [],
   "source": [
    "def single_mutation(solution):    #tweak - single mutation:\n",
    "    new_sol = solution.copy()     #change a single value in a random position\n",
    "    i = rng.integers(0, NUM_SETS) \n",
    "    new_sol[i] = not new_sol[i]  \n",
    "    new_sol\n",
    "    return new_sol"
   ]
  },
  {
   "cell_type": "code",
   "execution_count": 8,
   "metadata": {},
   "outputs": [],
   "source": [
    "def multiple_mutation(solution):              #tweak - multiple mutation: \n",
    "    mask = rng.random(NUM_SETS) < .01         #create a boolean mask with 1% probability to be 'true'\n",
    "    new_sol = np.logical_xor(solution, mask)  #xor: change the 'false' values to 'true' where the mask is 'true'\n",
    "    return new_sol"
   ]
  },
  {
   "cell_type": "code",
   "execution_count": 9,
   "metadata": {},
   "outputs": [],
   "source": [
    "def fitness(solution): #fitness function: tuple (lexicographic ordering)\n",
    "    return (valid(solution), -cost(solution)) "
   ]
  },
  {
   "cell_type": "code",
   "execution_count": 10,
   "metadata": {},
   "outputs": [
    {
     "name": "stderr",
     "output_type": "stream",
     "text": [
      "ic| first_solution_fitness: (np.False_, np.float64(-349719.1168954839))\n",
      "ic| solution_fitness: (np.True_, np.float64(-2935504.62422972))\n"
     ]
    },
    {
     "data": {
      "text/plain": [
       "(np.True_, np.float64(-2935504.62422972))"
      ]
     },
     "execution_count": 10,
     "metadata": {},
     "output_type": "execute_result"
    }
   ],
   "source": [
    "solution = rng.random(NUM_SETS) < .001      #random starting solution with low probability to have 'true' to start from an invalid solution\n",
    "solution_fitness = fitness(solution)\n",
    "first_solution_fitness = solution_fitness\n",
    "ic(first_solution_fitness)\n",
    "tweak = multiple_mutation                   #I choss the multiple mutation to tweak the solution\n",
    "\n",
    "for steps in range(10_000):                      \n",
    "    new_solution = tweak(solution)               #tweak the current solution\n",
    "    new_solution_fitness = fitness(new_solution) #evaluate the new solution fitness\n",
    "    if new_solution_fitness > solution_fitness:  #if the fitness of the new solution is better than the current one\n",
    "        solution = new_solution                  #the current solution and its fitness are updated\n",
    "        solution_fitness = fitness(solution)\n",
    "\n",
    "ic(solution_fitness)"
   ]
  },
  {
   "cell_type": "markdown",
   "metadata": {},
   "source": [
    "# Greedy Algorithm\n",
    "source: I used the algorithm from this website https://www.geeksforgeeks.org/greedy-approximate-algorithm-for-set-cover-problem/"
   ]
  },
  {
   "cell_type": "code",
   "execution_count": 11,
   "metadata": {},
   "outputs": [],
   "source": [
    "def set_cover_greedy(SETS, COSTS):\n",
    "    universe = set(range(SETS.shape[1])) #all elements\n",
    "    covered = set()                      #covered elements\n",
    "    selected = []                        #indexes of selected subsets, we start from an empty solution\n",
    "\n",
    "    while covered!=universe:\n",
    "        best_subset = None\n",
    "        best_ratio = float(\"inf\")\n",
    "\n",
    "        for i in range(len(SETS)):\n",
    "            subset = SETS[i]                            \n",
    "            subset_elements = set(np.where(subset)[0]) #for each subset\n",
    "            new_elements = subset_elements - covered   #I take the uncovered elements\n",
    "\n",
    "            if new_elements:                  #if there are uncovered elements  \n",
    "                current_cost = COSTS[i]       #I compute the ration cost/coverage\n",
    "                coverage = len(new_elements)\n",
    "                ratio = current_cost/coverage\n",
    "\n",
    "                if ratio < best_ratio:        #if the ratio is the best to this moment\n",
    "                    best_ratio = ratio        #I choose the current as best subset\n",
    "                    best_subset = i\n",
    "\n",
    "        if best_subset is not None:\n",
    "            selected.append(best_subset)\n",
    "            covered.update(set(np.where(SETS[best_subset])[0]))\n",
    "        else:\n",
    "            raise RuntimeError(\"No valid subset found. The problem may not be solvable with these sets and costs.\")\n",
    "\n",
    "    return selected"
   ]
  },
  {
   "cell_type": "code",
   "execution_count": 12,
   "metadata": {},
   "outputs": [
    {
     "name": "stderr",
     "output_type": "stream",
     "text": [
      "ic| fitness(solution): (np.True_, np.float64(-1528709.1532113561))\n"
     ]
    },
    {
     "data": {
      "text/plain": [
       "(np.True_, np.float64(-1528709.1532113561))"
      ]
     },
     "execution_count": 12,
     "metadata": {},
     "output_type": "execute_result"
    }
   ],
   "source": [
    "solution = set_cover_greedy(SETS=SETS, COSTS=COSTS)\n",
    "ic(fitness(solution))"
   ]
  }
 ],
 "metadata": {
  "kernelspec": {
   "display_name": "venv",
   "language": "python",
   "name": "python3"
  },
  "language_info": {
   "codemirror_mode": {
    "name": "ipython",
    "version": 3
   },
   "file_extension": ".py",
   "mimetype": "text/x-python",
   "name": "python",
   "nbconvert_exporter": "python",
   "pygments_lexer": "ipython3",
   "version": "3.12.4"
  }
 },
 "nbformat": 4,
 "nbformat_minor": 4
}
